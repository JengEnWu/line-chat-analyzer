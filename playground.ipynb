{
 "cells": [
  {
   "cell_type": "markdown",
   "metadata": {},
   "source": [
    "## **Line Chat Analyzer -- Playground**"
   ]
  },
  {
   "cell_type": "markdown",
   "metadata": {},
   "source": [
    "### **Text to Dataframe**"
   ]
  },
  {
   "cell_type": "code",
   "execution_count": 1,
   "metadata": {},
   "outputs": [],
   "source": [
    "import os\n",
    "import pandas as pd\n",
    "import os\n",
    "import re\n",
    "from time import strptime\n",
    "from time import process_time\n",
    "from datetime import datetime\n",
    "from matplotlib import pyplot as plt\n",
    "from matplotlib import dates as mdates\n",
    "\n",
    "def timeParser(string):\n",
    "    t = ''\n",
    "    if re.match(\"上午\", string):\n",
    "        t = string[2:7] + ' ' + 'AM'\n",
    "    else:\n",
    "        t = string[2:7] + ' ' + 'PM'\n",
    "    return t\n",
    "\n",
    "\n",
    "def datetimetotimestamp(date, time):\n",
    "    datetime_string = date+' '+timeParser(time)\n",
    "    datetime_format = '%Y-%m-%d %I:%M %p'\n",
    "    datetime_object = datetime.strptime(datetime_string, datetime_format)\n",
    "    return datetime_object\n",
    "\n",
    "\n",
    "def actionMsg(now_date, line):\n",
    "    t, action = line.rstrip(\"\\n\").split(\"\\t\", 1)\n",
    "    member = ''\n",
    "    msg = ''\n",
    "    # ooo邀請xxx加入群組\n",
    "    if re.match(\"(.*)邀請(.*)(加入|加入群組)$\", action):\n",
    "        member, msg = action.split(\"邀請\", 1)\n",
    "        msg = '邀請' + msg\n",
    "    # xxx加入群組\n",
    "    elif re.match(\"(.*)加入群組$\", action):\n",
    "        member, msg = action.split(\"加入\", 1)\n",
    "        msg = '加入' + msg\n",
    "    # xxx已退出群組\n",
    "    elif re.match(\"(.*)已退出群組$\", action):\n",
    "        member, msg = action.split(\"已退出\", 1)\n",
    "        msg = '已退出' + msg\n",
    "    # ooo已讓xxx退出群組\n",
    "    elif re.match(\"(.*)已讓(.*)退出群組$\", line):\n",
    "        member, msg = action.split(\"已讓\", 1)\n",
    "        msg = '已讓' + msg\n",
    "    # ooo已收回訊息\n",
    "    elif re.match(\"(.*)已收回訊息$\", line):\n",
    "        member, msg = action.split(\"已收回\", 1)\n",
    "        msg = '已收回' + msg\n",
    "    return {'full_time': datetimetotimestamp(now_date, t), 'member': member, 'msg': msg}\n",
    "\n",
    "\n",
    "def findLastDate(txt_path):\n",
    "    f = open(txt_path, \"r\", encoding=\"utf-8\")\n",
    "    li = []\n",
    "    for index, line in enumerate(f.readlines()):\n",
    "        # 略過前 3 行\n",
    "        if index < 3:\n",
    "            continue\n",
    "        # 紀錄日期指標\n",
    "        if re.match(\"^\\d{4}/\\d{2}/\\d{2}（(一|二|三|四|五|六|日)）$\", line):\n",
    "            li.append({\n",
    "                'index': index,\n",
    "                'date': line.rstrip(\"\\n\")[0:10].replace('/', '-')\n",
    "            })\n",
    "\n",
    "    csv_path = txt_path.replace('.txt', '.csv')\n",
    "    if os.path.isfile(csv_path) == True:\n",
    "        df = pd.read_csv(csv_path, encoding='utf-8')\n",
    "        now_date = df.iloc[-1:].full_time.astype(\n",
    "            str).str[0:10].to_string(index=False).strip()\n",
    "        last_date = list(filter(lambda l: l['date'] == now_date, li))[0]\n",
    "    else:\n",
    "        df = pd.DataFrame(columns=['full_time', 'member', 'msg'])\n",
    "        last_date = li[0]\n",
    "\n",
    "    return last_date\n",
    "\n",
    "\n",
    "def msg_txt_to_csv(txt_path):\n",
    "    print('-----\\nhandle msg from:\\t' + txt_path)\n",
    "\n",
    "    # 檢查是否已存在 csv 檔案, 有的話讀入\n",
    "    csv_path = txt_path.replace('.txt', '.csv')\n",
    "    if os.path.isfile(csv_path) == True:\n",
    "        df = pd.read_csv(csv_path, encoding='utf-8')\n",
    "        now_date = df.iloc[-1:].full_time.astype(\n",
    "            str).str[0:10].to_string(index=False).strip()\n",
    "    else:\n",
    "        df = pd.DataFrame(columns=['full_time', 'sender', 'msg'])\n",
    "        now_date = '1970-01-01'  # init date\n",
    "    f = open(txt_path, \"r\", encoding=\"utf-8\")\n",
    "\n",
    "    # 剔除 dataframe 中最後一天的對話紀錄, 再從 txt 重新讀入\n",
    "    last_date = findLastDate(txt_path)  # csv_last_date_line_index\n",
    "    df = df[~df.full_time.str.contains(last_date['date'], na=False)]\n",
    "    rows = []\n",
    "    for index, line in enumerate(f.readlines()[last_date['index']:]):\n",
    "        # 紀錄日期指標\n",
    "        if re.match(\"^\\d{4}/\\d{2}/\\d{2}（(一|二|三|四|五|六|日)）$\", line):\n",
    "            new_date = line.rstrip(\"\\n\")[0:10].replace('/', '-')\n",
    "            if strptime(now_date, \"%Y-%m-%d\") < strptime(new_date, \"%Y-%m-%d\"):\n",
    "                now_date = new_date\n",
    "            else:\n",
    "                continue\n",
    "        # 處理訊息\n",
    "        else:\n",
    "            # 處理動作\n",
    "            if re.match(\"^(上午|下午)\\d{2}:\\d{2}\\t(.*)(加入|加入群組|退出群組|收回訊息)$\", line):\n",
    "                rows.append(actionMsg(now_date, line))\n",
    "            # 處理一般對話訊息\n",
    "            elif re.match(\"^(上午|下午)\\d{2}:\\d{2}\\t(.*)\\t(.*)\", line):\n",
    "                time, member, msg = line.rstrip(\"\\n\").split(\"\\t\", 2)\n",
    "                rows.append({\n",
    "                    'full_time': datetimetotimestamp(now_date, time),\n",
    "                    'sender': member,\n",
    "                    'msg': msg\n",
    "                })\n",
    "            # 處理一般對話訊息包含多行的情況\n",
    "            else:\n",
    "                if len(rows) > 0:\n",
    "                    rows[-1]['msg'] = rows[-1]['msg'].strip(\n",
    "                        '\"') + '\\n' + line.strip('\\n\"')\n",
    "    f.close()\n",
    "    df1 = pd.DataFrame(rows, columns=['full_time', 'sender', 'msg'])\n",
    "    df = pd.concat([df, df1], ignore_index=True)\n",
    "    df.to_csv(csv_path, encoding=\"utf_8_sig\", index=False)\n",
    "    return df\n",
    "\n",
    "\n",
    "# .txt to .csv\n",
    "# dir_path = os.getcwd()\n",
    "# filename = '/chat_history_20220719.txt'\n",
    "# tStart = process_time()\n",
    "# msg_txt_to_csv(dir_path + filename)\n",
    "# tEnd = process_time()\n",
    "# print('generate:\\t\\t' + dir_path + '/' + filename.replace('.txt', '.csv') + '\\ncast:\\t\\t\\t' + str(tEnd - tStart) + ' sec')"
   ]
  },
  {
   "cell_type": "markdown",
   "metadata": {},
   "source": [
    "### **Load Dataframe**"
   ]
  },
  {
   "cell_type": "code",
   "execution_count": 2,
   "metadata": {},
   "outputs": [
    {
     "ename": "FileNotFoundError",
     "evalue": "[Errno 2] No such file or directory: './chat_history_20220719.csv'",
     "output_type": "error",
     "traceback": [
      "\u001b[0;31m---------------------------------------------------------------------------\u001b[0m",
      "\u001b[0;31mFileNotFoundError\u001b[0m                         Traceback (most recent call last)",
      "\u001b[0;32m/var/folders/pf/8wn9m7fx3dn5pjl3dr04902c0000gn/T/ipykernel_52972/1277763323.py\u001b[0m in \u001b[0;36m<module>\u001b[0;34m\u001b[0m\n\u001b[1;32m      1\u001b[0m \u001b[0;32mimport\u001b[0m \u001b[0mpandas\u001b[0m \u001b[0;32mas\u001b[0m \u001b[0mpd\u001b[0m\u001b[0;34m\u001b[0m\u001b[0;34m\u001b[0m\u001b[0m\n\u001b[0;32m----> 2\u001b[0;31m \u001b[0mdf\u001b[0m \u001b[0;34m=\u001b[0m \u001b[0mpd\u001b[0m\u001b[0;34m.\u001b[0m\u001b[0mread_csv\u001b[0m\u001b[0;34m(\u001b[0m\u001b[0;34m\"./chat_history_20220719.csv\"\u001b[0m\u001b[0;34m)\u001b[0m\u001b[0;34m\u001b[0m\u001b[0;34m\u001b[0m\u001b[0m\n\u001b[0m",
      "\u001b[0;32m~/opt/anaconda3/lib/python3.7/site-packages/pandas/util/_decorators.py\u001b[0m in \u001b[0;36mwrapper\u001b[0;34m(*args, **kwargs)\u001b[0m\n\u001b[1;32m    309\u001b[0m                     \u001b[0mstacklevel\u001b[0m\u001b[0;34m=\u001b[0m\u001b[0mstacklevel\u001b[0m\u001b[0;34m,\u001b[0m\u001b[0;34m\u001b[0m\u001b[0;34m\u001b[0m\u001b[0m\n\u001b[1;32m    310\u001b[0m                 )\n\u001b[0;32m--> 311\u001b[0;31m             \u001b[0;32mreturn\u001b[0m \u001b[0mfunc\u001b[0m\u001b[0;34m(\u001b[0m\u001b[0;34m*\u001b[0m\u001b[0margs\u001b[0m\u001b[0;34m,\u001b[0m \u001b[0;34m**\u001b[0m\u001b[0mkwargs\u001b[0m\u001b[0;34m)\u001b[0m\u001b[0;34m\u001b[0m\u001b[0;34m\u001b[0m\u001b[0m\n\u001b[0m\u001b[1;32m    312\u001b[0m \u001b[0;34m\u001b[0m\u001b[0m\n\u001b[1;32m    313\u001b[0m         \u001b[0;32mreturn\u001b[0m \u001b[0mwrapper\u001b[0m\u001b[0;34m\u001b[0m\u001b[0;34m\u001b[0m\u001b[0m\n",
      "\u001b[0;32m~/opt/anaconda3/lib/python3.7/site-packages/pandas/io/parsers/readers.py\u001b[0m in \u001b[0;36mread_csv\u001b[0;34m(filepath_or_buffer, sep, delimiter, header, names, index_col, usecols, squeeze, prefix, mangle_dupe_cols, dtype, engine, converters, true_values, false_values, skipinitialspace, skiprows, skipfooter, nrows, na_values, keep_default_na, na_filter, verbose, skip_blank_lines, parse_dates, infer_datetime_format, keep_date_col, date_parser, dayfirst, cache_dates, iterator, chunksize, compression, thousands, decimal, lineterminator, quotechar, quoting, doublequote, escapechar, comment, encoding, encoding_errors, dialect, error_bad_lines, warn_bad_lines, on_bad_lines, delim_whitespace, low_memory, memory_map, float_precision, storage_options)\u001b[0m\n\u001b[1;32m    584\u001b[0m     \u001b[0mkwds\u001b[0m\u001b[0;34m.\u001b[0m\u001b[0mupdate\u001b[0m\u001b[0;34m(\u001b[0m\u001b[0mkwds_defaults\u001b[0m\u001b[0;34m)\u001b[0m\u001b[0;34m\u001b[0m\u001b[0;34m\u001b[0m\u001b[0m\n\u001b[1;32m    585\u001b[0m \u001b[0;34m\u001b[0m\u001b[0m\n\u001b[0;32m--> 586\u001b[0;31m     \u001b[0;32mreturn\u001b[0m \u001b[0m_read\u001b[0m\u001b[0;34m(\u001b[0m\u001b[0mfilepath_or_buffer\u001b[0m\u001b[0;34m,\u001b[0m \u001b[0mkwds\u001b[0m\u001b[0;34m)\u001b[0m\u001b[0;34m\u001b[0m\u001b[0;34m\u001b[0m\u001b[0m\n\u001b[0m\u001b[1;32m    587\u001b[0m \u001b[0;34m\u001b[0m\u001b[0m\n\u001b[1;32m    588\u001b[0m \u001b[0;34m\u001b[0m\u001b[0m\n",
      "\u001b[0;32m~/opt/anaconda3/lib/python3.7/site-packages/pandas/io/parsers/readers.py\u001b[0m in \u001b[0;36m_read\u001b[0;34m(filepath_or_buffer, kwds)\u001b[0m\n\u001b[1;32m    480\u001b[0m \u001b[0;34m\u001b[0m\u001b[0m\n\u001b[1;32m    481\u001b[0m     \u001b[0;31m# Create the parser.\u001b[0m\u001b[0;34m\u001b[0m\u001b[0;34m\u001b[0m\u001b[0;34m\u001b[0m\u001b[0m\n\u001b[0;32m--> 482\u001b[0;31m     \u001b[0mparser\u001b[0m \u001b[0;34m=\u001b[0m \u001b[0mTextFileReader\u001b[0m\u001b[0;34m(\u001b[0m\u001b[0mfilepath_or_buffer\u001b[0m\u001b[0;34m,\u001b[0m \u001b[0;34m**\u001b[0m\u001b[0mkwds\u001b[0m\u001b[0;34m)\u001b[0m\u001b[0;34m\u001b[0m\u001b[0;34m\u001b[0m\u001b[0m\n\u001b[0m\u001b[1;32m    483\u001b[0m \u001b[0;34m\u001b[0m\u001b[0m\n\u001b[1;32m    484\u001b[0m     \u001b[0;32mif\u001b[0m \u001b[0mchunksize\u001b[0m \u001b[0;32mor\u001b[0m \u001b[0miterator\u001b[0m\u001b[0;34m:\u001b[0m\u001b[0;34m\u001b[0m\u001b[0;34m\u001b[0m\u001b[0m\n",
      "\u001b[0;32m~/opt/anaconda3/lib/python3.7/site-packages/pandas/io/parsers/readers.py\u001b[0m in \u001b[0;36m__init__\u001b[0;34m(self, f, engine, **kwds)\u001b[0m\n\u001b[1;32m    809\u001b[0m             \u001b[0mself\u001b[0m\u001b[0;34m.\u001b[0m\u001b[0moptions\u001b[0m\u001b[0;34m[\u001b[0m\u001b[0;34m\"has_index_names\"\u001b[0m\u001b[0;34m]\u001b[0m \u001b[0;34m=\u001b[0m \u001b[0mkwds\u001b[0m\u001b[0;34m[\u001b[0m\u001b[0;34m\"has_index_names\"\u001b[0m\u001b[0;34m]\u001b[0m\u001b[0;34m\u001b[0m\u001b[0;34m\u001b[0m\u001b[0m\n\u001b[1;32m    810\u001b[0m \u001b[0;34m\u001b[0m\u001b[0m\n\u001b[0;32m--> 811\u001b[0;31m         \u001b[0mself\u001b[0m\u001b[0;34m.\u001b[0m\u001b[0m_engine\u001b[0m \u001b[0;34m=\u001b[0m \u001b[0mself\u001b[0m\u001b[0;34m.\u001b[0m\u001b[0m_make_engine\u001b[0m\u001b[0;34m(\u001b[0m\u001b[0mself\u001b[0m\u001b[0;34m.\u001b[0m\u001b[0mengine\u001b[0m\u001b[0;34m)\u001b[0m\u001b[0;34m\u001b[0m\u001b[0;34m\u001b[0m\u001b[0m\n\u001b[0m\u001b[1;32m    812\u001b[0m \u001b[0;34m\u001b[0m\u001b[0m\n\u001b[1;32m    813\u001b[0m     \u001b[0;32mdef\u001b[0m \u001b[0mclose\u001b[0m\u001b[0;34m(\u001b[0m\u001b[0mself\u001b[0m\u001b[0;34m)\u001b[0m\u001b[0;34m:\u001b[0m\u001b[0;34m\u001b[0m\u001b[0;34m\u001b[0m\u001b[0m\n",
      "\u001b[0;32m~/opt/anaconda3/lib/python3.7/site-packages/pandas/io/parsers/readers.py\u001b[0m in \u001b[0;36m_make_engine\u001b[0;34m(self, engine)\u001b[0m\n\u001b[1;32m   1038\u001b[0m             )\n\u001b[1;32m   1039\u001b[0m         \u001b[0;31m# error: Too many arguments for \"ParserBase\"\u001b[0m\u001b[0;34m\u001b[0m\u001b[0;34m\u001b[0m\u001b[0;34m\u001b[0m\u001b[0m\n\u001b[0;32m-> 1040\u001b[0;31m         \u001b[0;32mreturn\u001b[0m \u001b[0mmapping\u001b[0m\u001b[0;34m[\u001b[0m\u001b[0mengine\u001b[0m\u001b[0;34m]\u001b[0m\u001b[0;34m(\u001b[0m\u001b[0mself\u001b[0m\u001b[0;34m.\u001b[0m\u001b[0mf\u001b[0m\u001b[0;34m,\u001b[0m \u001b[0;34m**\u001b[0m\u001b[0mself\u001b[0m\u001b[0;34m.\u001b[0m\u001b[0moptions\u001b[0m\u001b[0;34m)\u001b[0m  \u001b[0;31m# type: ignore[call-arg]\u001b[0m\u001b[0;34m\u001b[0m\u001b[0;34m\u001b[0m\u001b[0m\n\u001b[0m\u001b[1;32m   1041\u001b[0m \u001b[0;34m\u001b[0m\u001b[0m\n\u001b[1;32m   1042\u001b[0m     \u001b[0;32mdef\u001b[0m \u001b[0m_failover_to_python\u001b[0m\u001b[0;34m(\u001b[0m\u001b[0mself\u001b[0m\u001b[0;34m)\u001b[0m\u001b[0;34m:\u001b[0m\u001b[0;34m\u001b[0m\u001b[0;34m\u001b[0m\u001b[0m\n",
      "\u001b[0;32m~/opt/anaconda3/lib/python3.7/site-packages/pandas/io/parsers/c_parser_wrapper.py\u001b[0m in \u001b[0;36m__init__\u001b[0;34m(self, src, **kwds)\u001b[0m\n\u001b[1;32m     49\u001b[0m \u001b[0;34m\u001b[0m\u001b[0m\n\u001b[1;32m     50\u001b[0m         \u001b[0;31m# open handles\u001b[0m\u001b[0;34m\u001b[0m\u001b[0;34m\u001b[0m\u001b[0;34m\u001b[0m\u001b[0m\n\u001b[0;32m---> 51\u001b[0;31m         \u001b[0mself\u001b[0m\u001b[0;34m.\u001b[0m\u001b[0m_open_handles\u001b[0m\u001b[0;34m(\u001b[0m\u001b[0msrc\u001b[0m\u001b[0;34m,\u001b[0m \u001b[0mkwds\u001b[0m\u001b[0;34m)\u001b[0m\u001b[0;34m\u001b[0m\u001b[0;34m\u001b[0m\u001b[0m\n\u001b[0m\u001b[1;32m     52\u001b[0m         \u001b[0;32massert\u001b[0m \u001b[0mself\u001b[0m\u001b[0;34m.\u001b[0m\u001b[0mhandles\u001b[0m \u001b[0;32mis\u001b[0m \u001b[0;32mnot\u001b[0m \u001b[0;32mNone\u001b[0m\u001b[0;34m\u001b[0m\u001b[0;34m\u001b[0m\u001b[0m\n\u001b[1;32m     53\u001b[0m \u001b[0;34m\u001b[0m\u001b[0m\n",
      "\u001b[0;32m~/opt/anaconda3/lib/python3.7/site-packages/pandas/io/parsers/base_parser.py\u001b[0m in \u001b[0;36m_open_handles\u001b[0;34m(self, src, kwds)\u001b[0m\n\u001b[1;32m    227\u001b[0m             \u001b[0mmemory_map\u001b[0m\u001b[0;34m=\u001b[0m\u001b[0mkwds\u001b[0m\u001b[0;34m.\u001b[0m\u001b[0mget\u001b[0m\u001b[0;34m(\u001b[0m\u001b[0;34m\"memory_map\"\u001b[0m\u001b[0;34m,\u001b[0m \u001b[0;32mFalse\u001b[0m\u001b[0;34m)\u001b[0m\u001b[0;34m,\u001b[0m\u001b[0;34m\u001b[0m\u001b[0;34m\u001b[0m\u001b[0m\n\u001b[1;32m    228\u001b[0m             \u001b[0mstorage_options\u001b[0m\u001b[0;34m=\u001b[0m\u001b[0mkwds\u001b[0m\u001b[0;34m.\u001b[0m\u001b[0mget\u001b[0m\u001b[0;34m(\u001b[0m\u001b[0;34m\"storage_options\"\u001b[0m\u001b[0;34m,\u001b[0m \u001b[0;32mNone\u001b[0m\u001b[0;34m)\u001b[0m\u001b[0;34m,\u001b[0m\u001b[0;34m\u001b[0m\u001b[0;34m\u001b[0m\u001b[0m\n\u001b[0;32m--> 229\u001b[0;31m             \u001b[0merrors\u001b[0m\u001b[0;34m=\u001b[0m\u001b[0mkwds\u001b[0m\u001b[0;34m.\u001b[0m\u001b[0mget\u001b[0m\u001b[0;34m(\u001b[0m\u001b[0;34m\"encoding_errors\"\u001b[0m\u001b[0;34m,\u001b[0m \u001b[0;34m\"strict\"\u001b[0m\u001b[0;34m)\u001b[0m\u001b[0;34m,\u001b[0m\u001b[0;34m\u001b[0m\u001b[0;34m\u001b[0m\u001b[0m\n\u001b[0m\u001b[1;32m    230\u001b[0m         )\n\u001b[1;32m    231\u001b[0m \u001b[0;34m\u001b[0m\u001b[0m\n",
      "\u001b[0;32m~/opt/anaconda3/lib/python3.7/site-packages/pandas/io/common.py\u001b[0m in \u001b[0;36mget_handle\u001b[0;34m(path_or_buf, mode, encoding, compression, memory_map, is_text, errors, storage_options)\u001b[0m\n\u001b[1;32m    705\u001b[0m                 \u001b[0mencoding\u001b[0m\u001b[0;34m=\u001b[0m\u001b[0mioargs\u001b[0m\u001b[0;34m.\u001b[0m\u001b[0mencoding\u001b[0m\u001b[0;34m,\u001b[0m\u001b[0;34m\u001b[0m\u001b[0;34m\u001b[0m\u001b[0m\n\u001b[1;32m    706\u001b[0m                 \u001b[0merrors\u001b[0m\u001b[0;34m=\u001b[0m\u001b[0merrors\u001b[0m\u001b[0;34m,\u001b[0m\u001b[0;34m\u001b[0m\u001b[0;34m\u001b[0m\u001b[0m\n\u001b[0;32m--> 707\u001b[0;31m                 \u001b[0mnewline\u001b[0m\u001b[0;34m=\u001b[0m\u001b[0;34m\"\"\u001b[0m\u001b[0;34m,\u001b[0m\u001b[0;34m\u001b[0m\u001b[0;34m\u001b[0m\u001b[0m\n\u001b[0m\u001b[1;32m    708\u001b[0m             )\n\u001b[1;32m    709\u001b[0m         \u001b[0;32melse\u001b[0m\u001b[0;34m:\u001b[0m\u001b[0;34m\u001b[0m\u001b[0;34m\u001b[0m\u001b[0m\n",
      "\u001b[0;31mFileNotFoundError\u001b[0m: [Errno 2] No such file or directory: './chat_history_20220719.csv'"
     ]
    }
   ],
   "source": [
    "import pandas as pd\n",
    "df = pd.read_csv(\"./chat_history_20220719.csv\")"
   ]
  },
  {
   "cell_type": "markdown",
   "metadata": {},
   "source": [
    "### **Overall Statistics**\n",
    "1. Number of messages sent by A and B respectively.\n",
    "2. Number of total days, total messages, total calls and total call duration.\n",
    "3. The day with the highest number of messages (how many?), and the day with the longest call duration (and how long?)\n",
    "4. Number of messages, stickers, images, videos, and voicemail sent by A and B respectively.\n",
    "5. Word cloud for all messages.\n",
    "6. Number of messages vs. Days\n",
    "7. Call durations vs Days."
   ]
  },
  {
   "cell_type": "code",
   "execution_count": 75,
   "metadata": {},
   "outputs": [
    {
     "data": {
      "text/html": [
       "<div>\n",
       "<style scoped>\n",
       "    .dataframe tbody tr th:only-of-type {\n",
       "        vertical-align: middle;\n",
       "    }\n",
       "\n",
       "    .dataframe tbody tr th {\n",
       "        vertical-align: top;\n",
       "    }\n",
       "\n",
       "    .dataframe thead th {\n",
       "        text-align: right;\n",
       "    }\n",
       "</style>\n",
       "<table border=\"1\" class=\"dataframe\">\n",
       "  <thead>\n",
       "    <tr style=\"text-align: right;\">\n",
       "      <th></th>\n",
       "      <th>full_time</th>\n",
       "      <th>sender</th>\n",
       "      <th>msg</th>\n",
       "    </tr>\n",
       "  </thead>\n",
       "  <tbody>\n",
       "    <tr>\n",
       "      <th>111</th>\n",
       "      <td>2020-07-12 23:34:00</td>\n",
       "      <td>吳証恩</td>\n",
       "      <td>☎ 通話時間1:02:55</td>\n",
       "    </tr>\n",
       "    <tr>\n",
       "      <th>147</th>\n",
       "      <td>2020-07-13 23:06:00</td>\n",
       "      <td>吳証恩</td>\n",
       "      <td>☎ 通話時間0:21</td>\n",
       "    </tr>\n",
       "    <tr>\n",
       "      <th>148</th>\n",
       "      <td>2020-07-13 23:56:00</td>\n",
       "      <td>吳証恩</td>\n",
       "      <td>☎ 通話時間50:06</td>\n",
       "    </tr>\n",
       "  </tbody>\n",
       "</table>\n",
       "</div>"
      ],
      "text/plain": [
       "               full_time sender            msg\n",
       "111  2020-07-12 23:34:00    吳証恩  ☎ 通話時間1:02:55\n",
       "147  2020-07-13 23:06:00    吳証恩     ☎ 通話時間0:21\n",
       "148  2020-07-13 23:56:00    吳証恩    ☎ 通話時間50:06"
      ]
     },
     "execution_count": 75,
     "metadata": {},
     "output_type": "execute_result"
    }
   ],
   "source": [
    "df[df.msg.str.startswith(\"☎\", na=False)][:3]"
   ]
  },
  {
   "cell_type": "code",
   "execution_count": 104,
   "metadata": {},
   "outputs": [
    {
     "data": {
      "text/plain": [
       "datetime.timedelta(seconds=6012)"
      ]
     },
     "execution_count": 104,
     "metadata": {},
     "output_type": "execute_result"
    }
   ],
   "source": [
    "from datetime import datetime, timedelta\n",
    "\n",
    "def validate_date_format(d, format):\n",
    "    try:\n",
    "        datetime.strptime(d, format)\n",
    "        return True\n",
    "    except ValueError:\n",
    "        return False\n",
    "\n",
    "def str2timedelta(string: str):\n",
    "    \n",
    "    format1 = \"%H:%M:%S\"\n",
    "    format2 = \"%M:%S\"\n",
    "    \n",
    "    if validate_date_format(string, format1):\n",
    "        dt_obj = datetime.strptime(string, format1)\n",
    "        time_delta = timedelta(hours=dt_obj.hour, minutes=dt_obj.minute, seconds=dt_obj.second)\n",
    "        return time_delta\n",
    "    elif validate_date_format(string, format2):\n",
    "        dt_obj = datetime.strptime(string, format2)\n",
    "        time_delta = timedelta(minutes=dt_obj.minute, seconds=dt_obj.second)\n",
    "        return time_delta\n",
    "    else:\n",
    "        print(f\"should use date format {format1} or {format2}\")\n",
    "    \n",
    "\n",
    "# str1 = '1:02:55'\n",
    "# str2 = '0:21'\n",
    "# str3 = '50:06'\n",
    "\n",
    "# str2timedelta(str3)"
   ]
  },
  {
   "cell_type": "code",
   "execution_count": 105,
   "metadata": {},
   "outputs": [
    {
     "data": {
      "text/html": [
       "<div>\n",
       "<style scoped>\n",
       "    .dataframe tbody tr th:only-of-type {\n",
       "        vertical-align: middle;\n",
       "    }\n",
       "\n",
       "    .dataframe tbody tr th {\n",
       "        vertical-align: top;\n",
       "    }\n",
       "\n",
       "    .dataframe thead th {\n",
       "        text-align: right;\n",
       "    }\n",
       "</style>\n",
       "<table border=\"1\" class=\"dataframe\">\n",
       "  <thead>\n",
       "    <tr style=\"text-align: right;\">\n",
       "      <th></th>\n",
       "      <th>full_time</th>\n",
       "      <th>sender</th>\n",
       "      <th>msg</th>\n",
       "    </tr>\n",
       "  </thead>\n",
       "  <tbody>\n",
       "    <tr>\n",
       "      <th>111</th>\n",
       "      <td>2020-07-12 23:34:00</td>\n",
       "      <td>吳証恩</td>\n",
       "      <td>☎ 通話時間1:02:55</td>\n",
       "    </tr>\n",
       "    <tr>\n",
       "      <th>147</th>\n",
       "      <td>2020-07-13 23:06:00</td>\n",
       "      <td>吳証恩</td>\n",
       "      <td>☎ 通話時間0:21</td>\n",
       "    </tr>\n",
       "    <tr>\n",
       "      <th>148</th>\n",
       "      <td>2020-07-13 23:56:00</td>\n",
       "      <td>吳証恩</td>\n",
       "      <td>☎ 通話時間50:06</td>\n",
       "    </tr>\n",
       "    <tr>\n",
       "      <th>230</th>\n",
       "      <td>2020-07-15 22:40:00</td>\n",
       "      <td>吳証恩</td>\n",
       "      <td>☎ 通話時間23:52</td>\n",
       "    </tr>\n",
       "    <tr>\n",
       "      <th>700</th>\n",
       "      <td>2020-07-20 00:14:00</td>\n",
       "      <td>Christine Yu</td>\n",
       "      <td>☎ 通話時間48:53</td>\n",
       "    </tr>\n",
       "    <tr>\n",
       "      <th>...</th>\n",
       "      <td>...</td>\n",
       "      <td>...</td>\n",
       "      <td>...</td>\n",
       "    </tr>\n",
       "    <tr>\n",
       "      <th>81589</th>\n",
       "      <td>2022-07-17 16:51:00</td>\n",
       "      <td>Christine Yu</td>\n",
       "      <td>☎ 通話時間4:24</td>\n",
       "    </tr>\n",
       "    <tr>\n",
       "      <th>81651</th>\n",
       "      <td>2022-07-17 19:37:00</td>\n",
       "      <td>吳証恩</td>\n",
       "      <td>☎ 通話時間9:59</td>\n",
       "    </tr>\n",
       "    <tr>\n",
       "      <th>81878</th>\n",
       "      <td>2022-07-18 22:47:00</td>\n",
       "      <td>吳証恩</td>\n",
       "      <td>☎ 通話時間0:33</td>\n",
       "    </tr>\n",
       "    <tr>\n",
       "      <th>81881</th>\n",
       "      <td>2022-07-18 22:48:00</td>\n",
       "      <td>吳証恩</td>\n",
       "      <td>☎ 通話時間0:37</td>\n",
       "    </tr>\n",
       "    <tr>\n",
       "      <th>81883</th>\n",
       "      <td>2022-07-18 22:49:00</td>\n",
       "      <td>吳証恩</td>\n",
       "      <td>☎ 通話時間0:41</td>\n",
       "    </tr>\n",
       "  </tbody>\n",
       "</table>\n",
       "<p>397 rows × 3 columns</p>\n",
       "</div>"
      ],
      "text/plain": [
       "                 full_time        sender            msg\n",
       "111    2020-07-12 23:34:00           吳証恩  ☎ 通話時間1:02:55\n",
       "147    2020-07-13 23:06:00           吳証恩     ☎ 通話時間0:21\n",
       "148    2020-07-13 23:56:00           吳証恩    ☎ 通話時間50:06\n",
       "230    2020-07-15 22:40:00           吳証恩    ☎ 通話時間23:52\n",
       "700    2020-07-20 00:14:00  Christine Yu    ☎ 通話時間48:53\n",
       "...                    ...           ...            ...\n",
       "81589  2022-07-17 16:51:00  Christine Yu     ☎ 通話時間4:24\n",
       "81651  2022-07-17 19:37:00           吳証恩     ☎ 通話時間9:59\n",
       "81878  2022-07-18 22:47:00           吳証恩     ☎ 通話時間0:33\n",
       "81881  2022-07-18 22:48:00           吳証恩     ☎ 通話時間0:37\n",
       "81883  2022-07-18 22:49:00           吳証恩     ☎ 通話時間0:41\n",
       "\n",
       "[397 rows x 3 columns]"
      ]
     },
     "execution_count": 105,
     "metadata": {},
     "output_type": "execute_result"
    }
   ],
   "source": [
    "df[df.msg.str.contains(CALL,na=False, regex=False)]"
   ]
  },
  {
   "cell_type": "code",
   "execution_count": null,
   "metadata": {},
   "outputs": [],
   "source": [
    "# df[df.msg.str.startswith(\"☎\", na=False)]\n",
    "# df[\"msg\"][df[\"msg\"].str.startswith(\"[\",na=False) & df[\"msg\"].str.contains(\"]\",na=False, regex=False)].unique()"
   ]
  },
  {
   "cell_type": "code",
   "execution_count": null,
   "metadata": {},
   "outputs": [],
   "source": [
    "# constants\n",
    "User_A = \"吳証恩\"\n",
    "User_B = \"Christine Yu\"\n",
    "IMAGE = \"[照片]\"\n",
    "STICKER = \"[貼圖]\"\n",
    "VIDEO = \"[影片]\"\n",
    "ALBUM = \"[相簿]\"\n",
    "FILE = \"[檔案]\"\n",
    "GIFT = \"[禮物]\"\n",
    "NOTE = \"[記事本]\"\n",
    "CI = \"[聯絡資訊]\"\n",
    "CALL = \"通話時間\""
   ]
  },
  {
   "cell_type": "markdown",
   "metadata": {},
   "source": [
    "#### **Number of messages sent by A and B respectively**"
   ]
  },
  {
   "cell_type": "code",
   "execution_count": null,
   "metadata": {},
   "outputs": [],
   "source": [
    "print(f\"Total messages sent by {User_A}: {df[df.sender == User_A].shape[0]}\")\n",
    "print(f\"Total messages sent by {User_B}: {df[df.sender == User_B].shape[0]}\")"
   ]
  },
  {
   "cell_type": "markdown",
   "metadata": {},
   "source": [
    "#### **Total Numbers**"
   ]
  },
  {
   "cell_type": "code",
   "execution_count": null,
   "metadata": {},
   "outputs": [],
   "source": [
    "print(f\"Number of total days: {pd.to_datetime(df.full_time).dt.normalize().nunique()}\")\n",
    "print(f\"Number of total messages: {df.shape[0]}\")\n",
    "print(f\"Number of total images: {df[df.msg.str.contains(IMAGE,na=False, regex=False)].shape[0]}\")\n",
    "print(f\"Number of total stickers: {df[df.msg.str.contains(STICKER,na=False, regex=False)].shape[0]}\")\n",
    "print(f\"Number of total videos: {df[df.msg.str.contains(VIDEO,na=False, regex=False)].shape[0]}\")\n",
    "print(f\"Number of total albums: {df[df.msg.str.contains(ALBUM,na=False, regex=False)].shape[0]}\")\n",
    "print(f\"Number of total files: {df[df.msg.str.contains(FILE,na=False, regex=False)].shape[0]}\")\n",
    "print(f\"Number of total gifts: {df[df.msg.str.contains(GIFT,na=False, regex=False)].shape[0]}\")\n",
    "print(f\"Number of total notes: {df[df.msg.str.contains(NOTE,na=False, regex=False)].shape[0]}\")\n",
    "print(f\"Number of total C.I.: {df[df.msg.str.contains(CI,na=False, regex=False)].shape[0]}\")\n",
    "print(f\"Number of total calls: {df[df.msg.str.contains(CALL,na=False, regex=False)].shape[0]}\")\n",
    "# print(f\"Total call duration: {df[df.msg.str.contains(CALL,na=False, regex=False)].shape[0]}\")"
   ]
  },
  {
   "cell_type": "markdown",
   "metadata": {},
   "source": [
    "#### **The day with the highest number of messages (how many?), and the day with the longest call duration (and how long?)**"
   ]
  },
  {
   "cell_type": "code",
   "execution_count": null,
   "metadata": {},
   "outputs": [],
   "source": []
  },
  {
   "cell_type": "markdown",
   "metadata": {},
   "source": [
    "### **Statistics for A Specific Word**"
   ]
  },
  {
   "cell_type": "code",
   "execution_count": null,
   "metadata": {},
   "outputs": [],
   "source": []
  }
 ],
 "metadata": {
  "kernelspec": {
   "display_name": "Python 3.7.9 ('base')",
   "language": "python",
   "name": "python3"
  },
  "language_info": {
   "codemirror_mode": {
    "name": "ipython",
    "version": 3
   },
   "file_extension": ".py",
   "mimetype": "text/x-python",
   "name": "python",
   "nbconvert_exporter": "python",
   "pygments_lexer": "ipython3",
   "version": "3.7.9"
  },
  "orig_nbformat": 4,
  "vscode": {
   "interpreter": {
    "hash": "80abc454c3680029768265fb2d241145622e1199595d5b70bd9b6708e127aeb6"
   }
  }
 },
 "nbformat": 4,
 "nbformat_minor": 2
}
